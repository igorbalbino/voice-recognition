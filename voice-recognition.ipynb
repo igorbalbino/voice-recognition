{
 "cells": [
  {
   "cell_type": "code",
   "execution_count": null,
   "id": "e827073b-8066-426a-9f57-e49fdfd158af",
   "metadata": {},
   "outputs": [],
   "source": [
    "!pip install pipwin\n",
    "!pipwin install pyaudio\n",
    "!pip install SpeechRecognition"
   ]
  },
  {
   "cell_type": "code",
   "execution_count": null,
   "id": "84e944b2-ffa4-4a23-8731-633711e35059",
   "metadata": {},
   "outputs": [],
   "source": []
  },
  {
   "cell_type": "code",
   "execution_count": 1,
   "id": "92c7c557-ecb5-4c40-a666-9b4ce2db8025",
   "metadata": {},
   "outputs": [
    {
     "name": "stdout",
     "output_type": "stream",
     "text": [
      "['Asignador de sonido Microsoft - Input', 'Microfone (3- Realtek(R) Audio)', 'Asignador de sonido Microsoft - Output', 'Alto-falantes (3- Realtek(R) Au', 'Controlador primario de captura de sonido', 'Microfone (3- Realtek(R) Audio)', 'Controlador primario de sonido', 'Alto-falantes (3- Realtek(R) Audio)', 'Alto-falantes (3- Realtek(R) Audio)', 'Microfone (3- Realtek(R) Audio)', 'Mixagem estÃ©reo (Realtek HD Audio Stereo input)', 'Headphones (Realtek HD Audio 2nd output)', 'Speakers (Realtek HD Audio output)', 'Microfone (Realtek HD Audio Mic input)']\n"
     ]
    }
   ],
   "source": [
    "# ferramenta de reconhecimento de voz \"simples\"\n",
    "import speech_recognition as sr\n",
    "\n",
    "# !pip install pipwin\n",
    "# !pipwin install pyaudio\n",
    "# !pip install SpeechRecognition\n",
    "\n",
    "rec = sr.Recognizer()\n",
    "print(sr.Microphone().list_microphone_names())"
   ]
  },
  {
   "cell_type": "code",
   "execution_count": 4,
   "id": "5cf780f8-6c3a-44b5-877f-6e7f7818cd39",
   "metadata": {},
   "outputs": [
    {
     "name": "stdout",
     "output_type": "stream",
     "text": [
      "Pode falar que eu vou gravar\n",
      "teste\n"
     ]
    }
   ],
   "source": [
    "with sr.Microphone() as mic:\n",
    "    rec.adjust_for_ambient_noise(mic)\n",
    "    print('Pode falar que eu vou gravar')\n",
    "    audio = rec.listen(mic)\n",
    "    if(audio):\n",
    "        texto = rec.recognize_google(audio, language='pt-BR')\n",
    "        print(texto)\n",
    "    else:\n",
    "        print('sem som')"
   ]
  }
 ],
 "metadata": {
  "kernelspec": {
   "display_name": "Python 3 (ipykernel)",
   "language": "python",
   "name": "python3"
  },
  "language_info": {
   "codemirror_mode": {
    "name": "ipython",
    "version": 3
   },
   "file_extension": ".py",
   "mimetype": "text/x-python",
   "name": "python",
   "nbconvert_exporter": "python",
   "pygments_lexer": "ipython3",
   "version": "3.11.7"
  }
 },
 "nbformat": 4,
 "nbformat_minor": 5
}
